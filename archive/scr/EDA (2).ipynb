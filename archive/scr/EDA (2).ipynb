{
 "cells": [
  {
   "cell_type": "code",
   "execution_count": null,
   "id": "0aec4469-b05e-4c6e-a866-8ed62968a032",
   "metadata": {},
   "outputs": [],
   "source": [
    "import pandas as pd\n",
    "import numpy as np\n",
    "from combine_data import combine_data\n",
    "from data_processing import ADC_to_v,format_timestamps,normalize_data\n",
    "import librosa\n",
    "import os,shutil\n",
    "import matplotlib.pyplot as plt\n",
    "import scipy\n",
    "from scipy.stats import kurtosis,skew"
   ]
  },
  {
   "cell_type": "code",
   "execution_count": null,
   "id": "1163d942-24ba-42e5-b15c-ef5f7608b610",
   "metadata": {},
   "outputs": [],
   "source": [
    "\n",
    "\n",
    "raw_data,labels,time_stamps = combine_data('./../data/al_data')\n",
    "labels -=1"
   ]
  },
  {
   "cell_type": "code",
   "execution_count": null,
   "id": "9f9921e8-1e05-4173-94e5-83ca568b74a7",
   "metadata": {},
   "outputs": [],
   "source": [
    "voltage_values = []\n",
    "time = []\n",
    "for i in raw_data:\n",
    "    voltage_values.append(ADC_to_v(i))\n",
    "for i in time_stamps:\n",
    "    time.append(format_timestamps(i))"
   ]
  },
  {
   "cell_type": "code",
   "execution_count": null,
   "id": "660b7990-96e6-4f54-8d94-04196c3ce83e",
   "metadata": {},
   "outputs": [],
   "source": [
    "n_sample = 7"
   ]
  },
  {
   "cell_type": "code",
   "execution_count": null,
   "id": "c94baae3-80ce-4a05-a928-35154ab3d1d9",
   "metadata": {},
   "outputs": [],
   "source": [
    "win_size = 200\n",
    "# plt.subplot(3,1,1)\n",
    "f1 = np.lib.stride_tricks.sliding_window_view(voltage_values[n_sample],win_size).mean(axis=1)\n",
    "# f2 = skewness(np.lib.stride_tricks.sliding_window_view(voltage_values[n_sample],win_size),axis=1)/f3\n",
    "f3 = np.lib.stride_tricks.sliding_window_view(voltage_values[n_sample],win_size).max(axis=1)\n",
    "f4 = kurtosis(np.lib.stride_tricks.sliding_window_view(voltage_values[n_sample],win_size),axis=1)\n",
    "f2 = skew(np.lib.stride_tricks.sliding_window_view(voltage_values[n_sample],win_size),axis=1)\n",
    "f3 = np.apply_along_axis(lambda x: x*(x>0),0,f4*f2 > f3)\n",
    "plt.plot(voltage_values[n_sample])\n",
    "# plt.plot(f1)\n",
    "# plt.plot(f2)\n",
    "plt.plot(f3)\n",
    "# plt.plot(f4)\n",
    "plt.grid()\n",
    "\n",
    "# plt.subplot(3,1,2)\n",
    "# plt.plot(voltage_values[n_sample+1])\n",
    "# plt.plot(np.convolve(voltage_values[n_sample+1],np.ones(win_size)/win_size,'valid'))\n",
    "# plt.plot(np.lib.stride_tricks.sliding_window_view(abs(voltage_values[n_sample+1]),win_size).mean(axis=1))\n",
    "# plt.plot(np.lib.stride_tricks.sliding_window_view(voltage_values[n_sample+1],win_size).max(axis=1))\n",
    "# plt.plot(np.lib.stride_tricks.sliding_window_view(voltage_values[n_sample+1],win_size).min(axis=1))\n",
    "# plt.grid()\n",
    "# plt.subplot(3,1,3)\n",
    "# plt.plot(voltage_values[n_sample+2])\n",
    "# plt.plot(np.convolve(voltage_values[n_sample+2],np.ones(win_size)/win_size,'valid'))\n",
    "# plt.plot(np.lib.stride_tricks.sliding_window_view(abs(voltage_values[n_sample+2]),win_size).mean(axis=1))\n",
    "# plt.plot(np.lib.stride_tricks.sliding_window_view(voltage_values[n_sample+2],win_size).max(axis=1))\n",
    "# plt.plot(np.lib.stride_tricks.sliding_window_view(voltage_values[n_sample+2],win_size).min(axis=1))\n",
    "# plt.grid()"
   ]
  },
  {
   "cell_type": "code",
   "execution_count": null,
   "id": "776a6fd7-2ed2-4888-b843-c593ac9976c7",
   "metadata": {},
   "outputs": [],
   "source": [
    "np.lib.stride_tricks.sliding_window_view(voltage_values[n_sample],250,).var(axis=1)"
   ]
  },
  {
   "cell_type": "code",
   "execution_count": null,
   "id": "33770008-435c-4457-b077-687747e29d4b",
   "metadata": {},
   "outputs": [],
   "source": [
    "from librosa import display"
   ]
  },
  {
   "cell_type": "code",
   "execution_count": null,
   "id": "30969e6f-7e30-4fc4-928c-cabca9629a89",
   "metadata": {},
   "outputs": [],
   "source": []
  },
  {
   "cell_type": "code",
   "execution_count": null,
   "id": "bba79efb-bd31-478c-b901-359b823c1676",
   "metadata": {},
   "outputs": [],
   "source": [
    "from scipy.signal import butter, lfilter\n",
    "\n",
    "\n",
    "def butter_bandpass(lowcut, highcut, fs, order=5):\n",
    "    return butter(order, [lowcut, highcut], fs=fs, btype='band')\n",
    "\n",
    "def butter_bandpass_filter(data, lowcut, highcut, fs, order=5):\n",
    "    b, a = butter_bandpass(lowcut, highcut, fs, order=order)\n",
    "    y = lfilter(b, a, data)\n",
    "    return y\n",
    "\n",
    "def filter(voltage_values,low_cut=1,high_cut=55,fs = 1e3,):\n",
    "    '''\n",
    "    band pass filter based on the scipy butter bandpass, allowing frequency between low cut and high cut to pass through.\n",
    "    input : np.array of the data voltage values.\n",
    "    low_cut : lowest frequency defaults at 1\n",
    "    high cut : highest frequency in the band filter defaults at 55.\n",
    "    '''\n",
    "    return butter_bandpass_filter(voltage_values,lowcut=low_cut,highcut=high_cut,fs = fs)"
   ]
  },
  {
   "cell_type": "code",
   "execution_count": null,
   "id": "d2d340b6-0b91-4b52-85cb-e9548228a462",
   "metadata": {},
   "outputs": [],
   "source": [
    "from scipy.signal import butter, lfilter\n",
    "\n",
    "\n",
    "def butter_bandpass(lowcut, highcut, fs, order=5):\n",
    "    return butter(order, [lowcut, highcut], fs=fs, btype='band')\n",
    "\n",
    "def butter_bandpass_filter(data, lowcut, highcut, fs, order=5):\n",
    "    b, a = butter_bandpass(lowcut, highcut, fs, order=order)\n",
    "    y = lfilter(b, a, data)\n",
    "    return y"
   ]
  },
  {
   "cell_type": "code",
   "execution_count": null,
   "id": "fd241428-caf4-45fa-9290-599f53548f4f",
   "metadata": {},
   "outputs": [],
   "source": [
    "from scipy.fft import fft, fftfreq\n",
    "fft_vals = abs(fft(voltage_values[n_sample],n=16))\n",
    "fft_vals"
   ]
  },
  {
   "cell_type": "code",
   "execution_count": null,
   "id": "9e2c786c-e06d-421a-b81b-36bfd00c5e42",
   "metadata": {},
   "outputs": [],
   "source": [
    "plt.plot(librosa.fft_frequencies(sr=1000, n_fft=16),fft_vals[:len(fft_vals)//2+1])"
   ]
  },
  {
   "cell_type": "code",
   "execution_count": null,
   "id": "bde7294e-e2b7-4e9a-8158-2cedaa3ae193",
   "metadata": {},
   "outputs": [],
   "source": [
    "filtered = butter_bandpass_filter(voltage_values[n_sample],1,40,1000)"
   ]
  },
  {
   "cell_type": "code",
   "execution_count": null,
   "id": "c8cb1003-a899-418b-a17b-76ea76180e09",
   "metadata": {},
   "outputs": [],
   "source": [
    "plt.plot(filtered)\n",
    "plt.grid()"
   ]
  },
  {
   "cell_type": "code",
   "execution_count": null,
   "id": "4a58468f-88ab-4f16-bb6a-937d6c6bf4a8",
   "metadata": {},
   "outputs": [],
   "source": [
    "from scipy.integrate import cumtrapz"
   ]
  },
  {
   "cell_type": "code",
   "execution_count": null,
   "id": "b0a63824-45e1-4d03-899b-06e2d0924b9f",
   "metadata": {},
   "outputs": [],
   "source": [
    "plt.plot((filtered))\n",
    "plt.plot(1/np.pi * cumtrapz(filtered))"
   ]
  },
  {
   "cell_type": "code",
   "execution_count": null,
   "id": "c30a47fb-deae-4e4d-8cb3-f26bac1026e8",
   "metadata": {},
   "outputs": [],
   "source": [
    "from feature_extraction import *"
   ]
  },
  {
   "cell_type": "code",
   "execution_count": null,
   "id": "8665ba02-ceb0-422f-bae7-c6a9ffd612a5",
   "metadata": {
    "tags": []
   },
   "outputs": [],
   "source": [
    "filtered_values = []\n",
    "for i in voltage_values:\n",
    "    filtered_values.append(filter(i,high_cut=60))"
   ]
  },
  {
   "cell_type": "code",
   "execution_count": null,
   "id": "1c8a0ef3-0997-46b4-b345-2fb74d53095f",
   "metadata": {},
   "outputs": [],
   "source": [
    "\n",
    "plt.subplot(1,2,1)\n",
    "plt.title(f\"{labels[n_sample]} filtered\")\n",
    "plt.plot(filtered)\n",
    "plt.grid()\n",
    "plt.subplot(1,2,2)\n",
    "plt.title(f\"{labels[n_sample]} raw\")\n",
    "plt.plot(voltage_values[n_sample])\n",
    "plt.grid()"
   ]
  },
  {
   "cell_type": "code",
   "execution_count": null,
   "id": "d4599512-56d8-4048-a97e-1a4ef14a6913",
   "metadata": {
    "tags": []
   },
   "outputs": [],
   "source": [
    "features = [root_mean_squared,iemg,mean_absolute_value,variance,wave_form_length,mean,median,skewness,kurt,zero_crossing_rate]\n",
    "df = extract_features(voltage_values,label = labels,features_no=10,overlapping_percentage=0.25,features_funcs=features)\n",
    "df"
   ]
  },
  {
   "cell_type": "code",
   "execution_count": null,
   "id": "139524fe-cd43-4acd-a067-3f255c587bed",
   "metadata": {},
   "outputs": [],
   "source": [
    "df.columns"
   ]
  },
  {
   "cell_type": "code",
   "execution_count": null,
   "id": "ed12d1e5-69e9-4f33-80d8-7ee1e57d6539",
   "metadata": {},
   "outputs": [],
   "source": [
    "import seaborn as sns\n",
    "from sklearn.decomposition import PCA\n",
    "import pickle as pk\n"
   ]
  },
  {
   "cell_type": "code",
   "execution_count": null,
   "id": "3feaaa64-2062-4309-8d56-a908ba7e2469",
   "metadata": {},
   "outputs": [],
   "source": [
    "from sklearn.model_selection import train_test_split\n",
    "from sklearn.preprocessing import minmax_scale,normalize,StandardScaler\n",
    "from sklearn.model_selection import train_test_split\n",
    "import tensorflow as tf\n",
    "from tensorflow import keras\n",
    "from keras import Sequential"
   ]
  },
  {
   "cell_type": "code",
   "execution_count": null,
   "id": "cd7026ca-0a09-4aec-9cc1-467b938d579f",
   "metadata": {},
   "outputs": [],
   "source": [
    "X,y = df.drop('label',axis = 1),df['label']\n",
    "X_scaled =minmax_scale(X)"
   ]
  },
  {
   "cell_type": "code",
   "execution_count": null,
   "id": "78d2113a-f34c-48d6-a34f-640449c874ab",
   "metadata": {},
   "outputs": [],
   "source": [
    "pca = PCA(n_components=25)\n",
    "pca.fit(X_scaled)\n",
    "components = pca.transform(X_scaled)"
   ]
  },
  {
   "cell_type": "code",
   "execution_count": null,
   "id": "b4798656-7bab-4198-b967-08c76224e505",
   "metadata": {},
   "outputs": [],
   "source": [
    "x_train,x_test,y_train,y_test = train_test_split(components,y,train_size=0.7)\n",
    "x_train.shape"
   ]
  },
  {
   "cell_type": "code",
   "execution_count": null,
   "id": "c9b9b59c-ab1d-4537-baf8-cc2d6487db8c",
   "metadata": {},
   "outputs": [],
   "source": [
    "with open('./pca.pkl','wb') as pkl:\n",
    "    pk.dump(pca,pkl)"
   ]
  },
  {
   "cell_type": "code",
   "execution_count": null,
   "id": "b756f0e7-77c7-4d0a-8c12-21ca0c47e0e9",
   "metadata": {},
   "outputs": [],
   "source": [
    "# parameter 1 \n",
    "encoding_dim = 100\n",
    "# ncol # without the label column\n",
    "ncol = x_train.shape[1:][0]\n",
    "ncol"
   ]
  },
  {
   "cell_type": "code",
   "execution_count": null,
   "id": "4dc2bcef-45c2-43d6-a754-d78e470c0501",
   "metadata": {},
   "outputs": [],
   "source": [
    "model = Sequential()\n",
    "model.add(keras.layers.Input(shape=x_train.shape[1:]))\n",
    "model.add(keras.layers.Dense(15))\n",
    "model.add(keras.layers.Dropout(0.2))\n",
    "model.add(keras.layers.Dense(5))\n",
    "model.add(keras.layers.Dropout(0.2))\n",
    "model.add(keras.layers.Dense(3,activation = 'softmax'))"
   ]
  },
  {
   "cell_type": "code",
   "execution_count": null,
   "id": "92e9d570-e26a-4102-b846-04e03af3a79a",
   "metadata": {},
   "outputs": [],
   "source": [
    "loss_fn = loss_fn = keras.losses.SparseCategoricalCrossentropy()\n",
    "model.compile(optimizer=tf.keras.optimizers.Adam(learning_rate=1e-3),loss=loss_fn,metrics = ['accuracy'],)"
   ]
  },
  {
   "cell_type": "code",
   "execution_count": null,
   "id": "7c5e6c9e-35c7-48dd-ba07-f615ee4c84a6",
   "metadata": {},
   "outputs": [],
   "source": [
    "model.summary()"
   ]
  },
  {
   "cell_type": "code",
   "execution_count": null,
   "id": "51d2b3ab-b6a3-4485-9d7a-9ebfc0c22f6f",
   "metadata": {
    "tags": []
   },
   "outputs": [],
   "source": [
    "model.fit(x = x_train,y=y_train,validation_split=0.2,epochs=200,verbose=False)"
   ]
  },
  {
   "cell_type": "code",
   "execution_count": null,
   "id": "c9b1548b-41c2-457b-a3b4-f169a97b235c",
   "metadata": {
    "tags": []
   },
   "outputs": [],
   "source": [
    "from sklearn.svm import SVC"
   ]
  },
  {
   "cell_type": "code",
   "execution_count": null,
   "id": "3c24b43e-84aa-4298-b379-2d7892e4c5b5",
   "metadata": {},
   "outputs": [],
   "source": [
    "svm = SVC()\n",
    "svm.fit(x_train,y_train)"
   ]
  },
  {
   "cell_type": "code",
   "execution_count": null,
   "id": "e74a2397-3508-407c-9575-bfd5a1579d16",
   "metadata": {
    "tags": []
   },
   "outputs": [],
   "source": [
    "predictions_ann = np.argmax(model.predict(x_test),axis=1)\n",
    "predictions_svc = svm.predict(x_test)\n",
    "from sklearn.metrics import classification_report\n",
    "print(classification_report(y_true = y_test,y_pred=predictions_ann))"
   ]
  },
  {
   "cell_type": "code",
   "execution_count": null,
   "id": "81db9bc0-008f-4f36-bc08-8d1a3019900f",
   "metadata": {},
   "outputs": [],
   "source": [
    "model.save('ann.h5')"
   ]
  },
  {
   "cell_type": "code",
   "execution_count": null,
   "id": "b8764ecf-575e-4692-a0d4-2e1e1393d2df",
   "metadata": {},
   "outputs": [],
   "source": [
    "import inspect"
   ]
  },
  {
   "cell_type": "code",
   "execution_count": null,
   "id": "68f0acf9-c3b4-4725-89f9-5431d3efae45",
   "metadata": {},
   "outputs": [],
   "source": [
    "print(inspect.getsource(ADC_to_v))"
   ]
  },
  {
   "cell_type": "code",
   "execution_count": null,
   "id": "26492439-0c08-41e1-8d36-668f26bb24fd",
   "metadata": {},
   "outputs": [],
   "source": [
    "dataMax = np.max([i for i in map(len,raw_data)])\n",
    "out_size = 128\n",
    "max_features = 20000"
   ]
  },
  {
   "cell_type": "code",
   "execution_count": null,
   "id": "b5b6c08e-ede5-4e7f-bb8b-f16305343a89",
   "metadata": {},
   "outputs": [],
   "source": [
    "X = np.array(raw_data)\n",
    "y = np.array(labels)"
   ]
  },
  {
   "cell_type": "code",
   "execution_count": null,
   "id": "e80dbd0c-edb0-48ed-96e6-4a703e9e612d",
   "metadata": {},
   "outputs": [],
   "source": [
    "for i,element in enumerate(X):\n",
    "    temp = np.zeros(dataMax)\n",
    "    temp[:len(element)] += element[0]\n",
    "    X[i] = np.array(temp,dtype='float32')\n",
    "    "
   ]
  },
  {
   "cell_type": "code",
   "execution_count": null,
   "id": "30b20211-4033-49b9-8827-e51fe5ddfa19",
   "metadata": {},
   "outputs": [],
   "source": [
    "X = tf.convert_to_tensor([tf.convert_to_tensor(i) for i in X])"
   ]
  },
  {
   "cell_type": "code",
   "execution_count": null,
   "id": "7d2847cc-fea3-4d66-a579-1d375abc6493",
   "metadata": {},
   "outputs": [],
   "source": [
    "X = np.expand_dims(X,axis=2)"
   ]
  },
  {
   "cell_type": "code",
   "execution_count": null,
   "id": "f80f8844-85fe-497c-ad95-da62887caa32",
   "metadata": {},
   "outputs": [],
   "source": [
    "model = Sequential()\n",
    "model.add(keras.layers.Input(shape = X.shape[1:]))\n",
    "model.add(keras.layers.Masking(mask_value=0))\n",
    "model.add(keras.layers.Conv1D(2,))\n",
    "model.add(keras.layers.Dense(3,activation = 'softmax'))\n",
    "loss_fn = loss_fn = keras.losses.SparseCategoricalCrossentropy()\n",
    "model.compile(optimizer=tf.keras.optimizers.Adam(learning_rate=1e-3),loss=loss_fn,metrics = ['accuracy'],)"
   ]
  },
  {
   "cell_type": "code",
   "execution_count": null,
   "id": "2a11a1a9-6667-41a4-bf83-d7e6148f0e04",
   "metadata": {},
   "outputs": [],
   "source": [
    "model.build()"
   ]
  },
  {
   "cell_type": "code",
   "execution_count": null,
   "id": "a3ea56a6-2814-448f-bda6-a582cdc5844c",
   "metadata": {},
   "outputs": [],
   "source": [
    "model.summary()"
   ]
  },
  {
   "cell_type": "code",
   "execution_count": null,
   "id": "6af41b7b-955c-4d3f-8949-7029db13a166",
   "metadata": {},
   "outputs": [],
   "source": [
    "x_train,x_test,y_train,y_test = train_test_split(X,y)"
   ]
  },
  {
   "cell_type": "code",
   "execution_count": null,
   "id": "79f2bb75-577c-494e-a33a-15a7c9dbea7b",
   "metadata": {},
   "outputs": [],
   "source": [
    "model.fit(x_train,y_train)"
   ]
  },
  {
   "cell_type": "code",
   "execution_count": null,
   "id": "8958fd41-66a1-405f-9ba1-b5e7a6ad11db",
   "metadata": {},
   "outputs": [],
   "source": [
    "import os\n",
    "import pandas as pd\n",
    "import numpy as np\n",
    "import re\n",
    "def combine_data(path:str):\n",
    "    \"\"\"\n",
    "    this script will read the json files and structures it itno X,y for preprocessing and feature extraction.\n",
    "    the input is the son data path.\n",
    "    this function will outputs 3 np.array tuples raw data, labels, timestamps.\n",
    "    \"\"\"\n",
    "    data = []\n",
    "    labels = []\n",
    "    time_stamps = []\n",
    "    for file_name in os.listdir(path):\n",
    "        if file_name.endswith(\"json\"):\n",
    "            df = pd.read_json(path + '/'+file_name)\n",
    "            data.append(np.asarray(df.data.values,dtype=np.float32))\n",
    "            #labels.append(df.label.unique()[0])\n",
    "            labels.append(re.findall(pattern=r'[A-Z]\\w+',string=file_name)[0])\n",
    "            #time_stamps.append(df.time)\n",
    "    data = np.array(data)\n",
    "    labels = np.array(labels)\n",
    "    time_stamps = np.array(time_stamps)\n",
    "    return data,labels,time_stamps"
   ]
  },
  {
   "cell_type": "code",
   "execution_count": 17,
   "id": "42816d74",
   "metadata": {},
   "outputs": [],
   "source": [
    "data,labels,time_st = combine_data(r'C:\\Users\\aleja\\Documents\\Courses\\Applied_AI\\emg_DVA435_CDT406\\data\\naz_data')"
   ]
  },
  {
   "cell_type": "code",
   "execution_count": null,
   "id": "8503c8dc",
   "metadata": {},
   "outputs": [],
   "source": [
    "#df_naz = df = pd.DataFrame(data)\n",
    "def sliding_window(data, window_size, overlap):\n",
    "    \"\"\"\n",
    "    Applies a sliding window with overlap to the input data.\n",
    "\n",
    "    Parameters:\n",
    "    data (ndarray): input data\n",
    "    window_size (int): size of sliding window\n",
    "    overlap (int): overlap between consecutive windows\n",
    "\n",
    "    Returns:\n",
    "    ndarray: 2D array with sliding windows of shape (n_windows, window_size)\n",
    "    \"\"\"\n",
    "    n_samples = data.shape[0]\n",
    "    overlap = int(np.floor((window_size*overlap)/100))\n",
    "    n_windows = int(np.floor((n_samples - window_size) / overlap) + 1)\n",
    "    windows = np.zeros((n_windows, window_size))\n",
    "\n",
    "    for i in range(n_windows):\n",
    "        start = i * overlap\n",
    "        end = start + window_size\n",
    "        windows[i] = data[start:end]\n",
    "\n",
    "    return windows\n",
    "\n",
    "def extract_features(data, feature_names):\n",
    "    \"\"\"\n",
    "    Extracts features from data and returns the fitted model object.\n",
    "    :param data: data with signals\n",
    "    :param overlap: overlaping space\n",
    "    \"\"\"\n",
    "    # Work with numpy matrix\n",
    "    data = np.array(data)\n",
    "\n",
    "    # Time domain features: Mean absolute value (MAV), root mean square (RMS), waveform length (WL),zero crossings (ZC), variance (VAR)\n",
    "    '''feature_names = ['Variance(VAR)', 'MeanAbsoluteValue(MAV)', 'RootMeanSquare(RMS)', 'WaveformLength(WL)',\n",
    "                     'Mean(MEAN)',\n",
    "                     'StandardDeviation(SD)', 'Median', 'Peak(PK)', 'Min(MIN)', 'IntegralEMG(iEMG)',\n",
    "                     'AverageAmplitudeChange(ACC)',\n",
    "                     'Kurtosis(KURT)', 'Skewness(SKEW)']'''\n",
    "    '''var = []\n",
    "    mav = []\n",
    "    rms = []\n",
    "    wl = []\n",
    "    zc = []\n",
    "    mean = []\n",
    "    std = []\n",
    "    median = []\n",
    "    peak = []\n",
    "    min = []\n",
    "    iemg = []\n",
    "    aac = []\n",
    "    kur = []\n",
    "    skewe = []'''\n",
    "\n",
    "    # Iterate for each signal/window and calculate associated features\n",
    "    '''for x in range(len(data_n)):'''\n",
    "    var = np.var(data) \n",
    "    rms = np.sqrt(np.mean(data ** 2))\n",
    "    mav = np.sum(np.absolute(data)) / len(data)\n",
    "    wl = np.sum(abs(np.diff(data)))\n",
    "    mean = np.mean(data)\n",
    "    std = np.std(data)\n",
    "    median = np.median(data)\n",
    "    peak = np.max(data)\n",
    "    min = np.min(data)\n",
    "    iemg = np.sum(abs(data))\n",
    "    aac = np.sum(abs(np.diff(data))) / len(data)\n",
    "    kur = kurtosis(data)\n",
    "    skewe = skew(data)\n",
    "\n",
    "        # zc.append(zcruce(x, th))\n",
    "\n",
    "    matrix = np.column_stack((var, mav, rms, wl, mean, std, median, peak, min, iemg, aac, kur, skewe))\n",
    "    df_features = pd.DataFrame(matrix, columns=feature_names)\n",
    "    #data = pd.concat([data, df_features], axis=1)\n",
    "\n",
    "    return df_features"
   ]
  },
  {
   "cell_type": "code",
   "execution_count": 9,
   "id": "81e5f322",
   "metadata": {},
   "outputs": [
    {
     "data": {
      "text/plain": [
       "array([[-4., -4., -4., ..., -3., -2., -6.],\n",
       "       [-4., -4., -6., ...,  6.,  4.,  5.],\n",
       "       [ 1.,  1.,  0., ..., -6., -7., -9.]], dtype=float32)"
      ]
     },
     "execution_count": 9,
     "metadata": {},
     "output_type": "execute_result"
    }
   ],
   "source": [
    "data[0:3]"
   ]
  },
  {
   "cell_type": "code",
   "execution_count": 21,
   "id": "97fa6c9f",
   "metadata": {},
   "outputs": [],
   "source": [
    "from scipy.stats import skew, kurtosis\n",
    "col_names = ['Variance(VAR)', 'MeanAbsoluteValue(MAV)', 'RootMeanSquare(RMS)', 'WaveformLength(WL)',\n",
    "                     'Mean(MEAN)',\n",
    "                     'StandardDeviation(SD)', 'Median', 'Peak(PK)', 'Min(MIN)', 'IntegralEMG(iEMG)',\n",
    "                     'AverageAmplitudeChange(ACC)',\n",
    "                     'Kurtosis(KURT)', 'Skewness(SKEW)']\n",
    "\n",
    "window_sizes = [250]\n",
    "overlaps = [50]\n",
    "frames = data\n",
    "df_naz = pd.DataFrame()\n",
    "\n",
    "for window_size in range(len(window_sizes)):\n",
    "  for overlap in range(len(overlaps)):\n",
    "    for frame in range(len(frames)):\n",
    "      windows = sliding_window(frames[frame], window_sizes[window_size], overlaps[overlap])\n",
    "      df_row = pd.DataFrame()\n",
    "      for window in range(len(windows)):\n",
    "        current_col_names = [\"%s_%s\" % (col_names[c], str(window)) for c in range(len(col_names))]\n",
    "        window_features = extract_features(windows[window], current_col_names)\n",
    "        df_row = pd.concat([df_row, window_features], axis=1)\n",
    "      df_naz = pd.concat([df_naz, df_row], axis=0)\n",
    "      "
   ]
  },
  {
   "cell_type": "code",
   "execution_count": 24,
   "id": "5e4eca6b",
   "metadata": {},
   "outputs": [],
   "source": [
    "df_naz['label'] = labels"
   ]
  },
  {
   "cell_type": "code",
   "execution_count": 26,
   "id": "e9e16f7e",
   "metadata": {},
   "outputs": [],
   "source": [
    "df_naz.to_csv(r'C:\\Users\\aleja\\Documents\\Courses\\Applied_AI\\emg_DVA435_CDT406\\data\\naz_data\\df_naz.csv', index=False)"
   ]
  }
 ],
 "metadata": {
  "kernelspec": {
   "display_name": "Python 3 (ipykernel)",
   "language": "python",
   "name": "python3"
  },
  "language_info": {
   "codemirror_mode": {
    "name": "ipython",
    "version": 3
   },
   "file_extension": ".py",
   "mimetype": "text/x-python",
   "name": "python",
   "nbconvert_exporter": "python",
   "pygments_lexer": "ipython3",
   "version": "3.11.3"
  }
 },
 "nbformat": 4,
 "nbformat_minor": 5
}
