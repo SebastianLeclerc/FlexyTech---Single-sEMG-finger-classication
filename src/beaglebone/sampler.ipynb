{
 "cells": [
  {
   "cell_type": "markdown",
   "id": "6a6499b2-9e04-4267-873f-b7c7bda22213",
   "metadata": {
    "tags": []
   },
   "source": [
    "# Readme\n",
    "Reads the raw AIN1 ADC value on the Beaglebone Green<br>\n",
    "Samples at approximately 1kHz (some overhead due to the OS, Python, no RTOS, etc.)<br>\n",
    "Saves a JSON file of the data in samples/<br>\n",
    "And plots a graph for visual verification of results (i.e. not too noisy, or missed movement)\n",
    "\n",
    "## Dependencies\n",
    "Python 3.7.3 or higher<br>\n",
    "`python3 -m pip install numpy==1.20 matplotlib jupyterlab`\n",
    "\n",
    "## HOW TO GUIDE\n",
    "1. Make sure the EMG sensor is properly connected, then connect the Beaglebone to the PC, wait for it to boot up (~1min)\n",
    "2. Open a terminal and SSH into the beaglebone with: `ssh -L 8888:localhost:8888 debian@192.168.7.2`\n",
    "3. Password is: **temppwd**\n",
    "4. Start the jupyter server on the beaglebone with the command: `jupyter lab`\n",
    "5. Copy the URL (localhost ... or, 127.0.0.1 ...) and paste it in a browser to open the jupyter environment, for example:<br>\n",
    "    `http://localhost:8888/lab?token=389adbadce2bae7df571cf9f9d8c0ec12db68db033b7a1ab`\n",
    "6. Run the Imports cell (mark it and hit `shift + enter`)\n",
    "\n",
    "7. Open Cloud9 (http://192.168.7.2/) or SSH (`ssh debian@192.168.7.2`) to the beaglebone and check what files are in ~/samples/<br>\n",
    "    I.e., currently the files are saved as \"Number\" + \"Finger\" + \"movement\" + \"json\", for example: \"1ThumbFlexion.json\"<br>\n",
    "    **Dont overwrite data or new samples needs to be collected!**\n",
    "\n",
    "8. Start sampling! For example: 10 x Thumb Flexion, 10 X Thumb Extension ... etc for all fingers where:<br>\n",
    "    You need to **manually change `sample`** (and after 10 x the `movement` and `label`) in between collecting the data :(<br>\n",
    "    Check graph that readings are OK! Might need to change electrode position, disconnect power from PC, etc.<br>\n",
    "    <img src=\"sensorPlace2.jpg\" width=\"600\" height=\"400\"><br>\n",
    "    <img src=\"sensorPlace3.jpg\" width=\"600\" height=\"400\"><br>\n",
    "    ~3.5 cm from center to center of electrodes\n",
    "\n",
    "9. After sampling is done, compress and archive the samples directory with the command, from the ~ directory: `tar -zcvf jsonData.tar.gz samples`\n",
    "\n",
    "10. Copy the .tar.gz JSON data from the beaglebone to the PC, for example, in my terminal:<br>\n",
    "    `scp debian@192.168.7.2:/home/debian/jsonData.tar.gz C:\\Users\\Seb\\Desktop`\n",
    "\n",
    "11. Open archive and unpack it on the PC --> We now have training data!"
   ]
  },
  {
   "cell_type": "markdown",
   "id": "5cf85630-4973-4d11-9214-132891eb73c1",
   "metadata": {
    "tags": []
   },
   "source": [
    "# Imports "
   ]
  },
  {
   "cell_type": "code",
   "execution_count": 1,
   "id": "b7988947-2c61-4013-a0e0-149b54e50ef0",
   "metadata": {
    "tags": []
   },
   "outputs": [],
   "source": [
    "import time\n",
    "from datetime import datetime\n",
    "import json\n",
    "import numpy as np\n",
    "import matplotlib.pyplot as plt"
   ]
  },
  {
   "cell_type": "markdown",
   "id": "79ce917b-17b9-4cb2-a195-1aa298cbb086",
   "metadata": {
    "tags": []
   },
   "source": [
    "# Sampling from ADC"
   ]
  },
  {
   "cell_type": "code",
   "execution_count": 2,
   "id": "32defe65-342d-43af-8ffe-56237dbf6952",
   "metadata": {
    "tags": []
   },
   "outputs": [
    {
     "name": "stdout",
     "output_type": "stream",
     "text": [
      "\n",
      "Sampled 1000 samples in 1.001570701599121 s\n",
      "Sample rate: 994\n"
     ]
    },
    {
     "data": {
      "image/png": "[encoded data removed]",
      "text/plain": [
       "<Figure size 640x480 with 1 Axes>"
      ]
     },
     "metadata": {},
     "output_type": "display_data"
    }
   ],
   "source": [
    "np.set_printoptions(suppress=True) # No scientific notation\n",
    "\n",
    "# Raw analog input pin to read from file\n",
    "pin = 1\n",
    "file = \"/sys/bus/iio/devices/iio:device0/in_voltage{}_raw\".format(pin)\n",
    "fd = open(file, \"r\")\n",
    "\n",
    "########## CHANGE DEPENDING ON: FINGER, MOVEMENT, AMOUNT, SAMPLE NO ########## \n",
    "label = \"Thumb\" # \"Thumb\" or \"Index\" or \"Middle\" or \"Ring\" or \"Pinky\"\n",
    "movement = \"Flexion\" # \"Extension\" or \"Flexion\"\n",
    "sampleCount = 1000 # Amount of samples needed\n",
    "sample = 1 # Increment manually, i.e., set to 1 first, then 2, 3 ...\n",
    "############################################################################# \n",
    "\n",
    "sampleStart = sampleCount # For printouts\n",
    "period = 0.001 # Sample period\n",
    "data = [] # List of samples\n",
    "t = time.time() # For controlling sample rate\n",
    "startLoopTime = time.time() # For verification of sample rate accuracy\n",
    "\n",
    "while True:\n",
    "    t += period\n",
    "    fd.seek(0) # Reset file pinter to begining of file\n",
    "    value = float(fd.read().strip()) - 3412.0 # Read sensor value as float\n",
    "    data.append(value) # Append sensor value to list\n",
    "    time.sleep(max(0,t-time.time())) # Adjust sleep to get better time precision\n",
    "    sampleCount -= 1\n",
    "    if (sampleCount == 0): break # Change value to sample more\n",
    "\n",
    "fd.close()\n",
    "\n",
    "#Some information how it went\n",
    "print(\"\\nSampled \" + str(sampleStart) + \" samples in \" + str(time.time() - startLoopTime) + \" s\")\n",
    "print(\"Sample rate: \" + str(1000 / (time.time() - startLoopTime) ).split('.')[0])\n",
    "\n",
    "#Saving the data as a JSON file\n",
    "jsonFileName = str(sample) + label + movement\n",
    "jsonStructure = {'label': label, 'data': data}\n",
    "with open(\"samples/\" + jsonFileName + \".json\", 'w') as f:\n",
    "    json.dump(jsonStructure, f, indent = 4)\n",
    "\n",
    "#Plotting the data\n",
    "plt.plot(data)\n",
    "plt.xlabel('Sample')\n",
    "plt.ylabel('ADC Value')\n",
    "plt.title(label + movement)\n",
    "plt.xlim(0, 1000)\n",
    "plt.ylim(-250, 150) #SHOULD be enough to contain min/max ADC values from our experiments, COULD be adjusted\n",
    "plt.grid(True)"
   ]
  },
  {
   "cell_type": "code",
   "execution_count": null,
   "id": "75e3d597-be18-4ba8-8c5f-f61d4779f5b4",
   "metadata": {},
   "outputs": [],
   "source": []
  }
 ],
 "metadata": {
  "kernelspec": {
   "display_name": "Python 3 (ipykernel)",
   "language": "python",
   "name": "python3"
  },
  "language_info": {
   "codemirror_mode": {
    "name": "ipython",
    "version": 3
   },
   "file_extension": ".py",
   "mimetype": "text/x-python",
   "name": "python",
   "nbconvert_exporter": "python",
   "pygments_lexer": "ipython3",
   "version": "3.7.3"
  }
 },
 "nbformat": 4,
 "nbformat_minor": 5
}
