{
 "cells": [
  {
   "cell_type": "markdown",
   "id": "6a6499b2-9e04-4267-873f-b7c7bda22213",
   "metadata": {
    "tags": []
   },
   "source": [
    "# Readme\n",
    "Reads the raw AIN1 ADC value on the Beaglebone Green<br>\n",
    "Samples at approximately 1kHz (some overhead due to the OS, Python, no RTOS, etc.)<br>\n",
    "Saves a JSON file of the data in samples/<br>\n",
    "And plots a graph for visual verification of results (i.e. not too noisy, or missed movement)\n",
    "\n",
    "## Beaglebone dependencies\n",
    "Python 3.7.3 or higher<br>\n",
    "`python3 -m pip install numpy==1.20 matplotlib jupyterlab`\n",
    "\n",
    "## How to guide\n",
    "1. Make sure the EMG sensor is properly connected, then connect the Beaglebone to the PC, wait for it to boot up (~1min)\n",
    "2. Open a terminal and SSH into the beaglebone with: `ssh -L 8888:localhost:8888 debian@192.168.7.2`\n",
    "3. Password is: **temppwd**\n",
    "4. Start the jupyter server on the beaglebone with the command: `jupyter lab`\n",
    "5. Copy the URL (localhost ... or, 127.0.0.1 ...) and paste it in a browser to open the jupyter environment, for example:<br>\n",
    "    `http://localhost:8888/lab?token=389adbadce2bae7df571cf9f9d8c0ec12db68db033b7a1ab`\n",
    "6. Run the Imports cell (mark it and hit `shift + enter`)\n",
    "\n",
    "7. Open Cloud9 (http://192.168.7.2/) or SSH (`ssh debian@192.168.7.2`) to the beaglebone and check what files are in ~/samples/<br>\n",
    "    I.e., currently the files are saved as \"Number\" + \"Finger\" + \"movement\" + \"json\", for example: \"1ThumbFlexion.json\"<br>\n",
    "    **Dont overwrite data or new samples needs to be collected!**\n",
    "\n",
    "8. Start sampling! For example: 10 x Thumb Flexion, 10 X Thumb Extension ... etc for all fingers where:<br>\n",
    "    You need to **manually change `sample`** (and after 10 x the `movement` and `label`) in between collecting the data :(<br>\n",
    "    Check graph that readings are OK! Might need to change electrode position, disconnect power from PC, etc.<br>\n",
    "    <img src=\"sensorPlace2.jpg\" width=\"600\" height=\"400\"><br>\n",
    "    <img src=\"sensorPlace3.jpg\" width=\"600\" height=\"400\"><br>\n",
    "    ~3.5 cm from center to center of electrodes\n",
    "\n",
    "9. After sampling is done, compress and archive the samples directory with the command, from the ~ directory: `tar -zcvf jsonData.tar.gz samples`\n",
    "\n",
    "10. Copy the .tar.gz JSON data from the beaglebone to the PC, for example, in my terminal:<br>\n",
    "    `scp debian@192.168.7.2:/home/debian/jsonData.tar.gz C:\\Users\\Seb\\Desktop`\n",
    "\n",
    "11. Open archive and unpack it on the PC --> We now have training data!"
   ]
  },
  {
   "cell_type": "markdown",
   "id": "5cf85630-4973-4d11-9214-132891eb73c1",
   "metadata": {
    "tags": []
   },
   "source": [
    "# Imports "
   ]
  },
  {
   "cell_type": "code",
   "execution_count": 1,
   "id": "b7988947-2c61-4013-a0e0-149b54e50ef0",
   "metadata": {
    "tags": []
   },
   "outputs": [],
   "source": [
    "# Data collection\n",
    "import time\n",
    "from datetime import datetime\n",
    "import json\n",
    "import numpy as np\n",
    "import matplotlib.pyplot as plt\n",
    "from scipy.stats import kurtosis,skew"
   ]
  },
  {
   "cell_type": "markdown",
   "id": "79ce917b-17b9-4cb2-a195-1aa298cbb086",
   "metadata": {
    "tags": []
   },
   "source": [
    "# Sampling from ADC"
   ]
  },
  {
   "cell_type": "markdown",
   "id": "96975456-2b51-4eed-b3b1-3c0965a52ac2",
   "metadata": {
    "tags": []
   },
   "source": [
    "# function definitions"
   ]
  },
  {
   "cell_type": "code",
   "execution_count": 6,
   "id": "fb9d7840-9495-4c52-b85e-6594940c06b4",
   "metadata": {
    "tags": []
   },
   "outputs": [],
   "source": [
    "! echo 10 > /sys/class/gpio/export;echo 9 > /sys/class/gpio/export;echo 8 > /sys/class/gpio/export"
   ]
  },
  {
   "cell_type": "code",
   "execution_count": 7,
   "id": "3cb63648-9566-41cb-a8eb-b680ca1bf213",
   "metadata": {
    "tags": []
   },
   "outputs": [
    {
     "name": "stdout",
     "output_type": "stream",
     "text": [
      "P8_31 set as OUTPUT\n",
      "P8_33 set as OUTPUT\n",
      "P8_35 set as OUTPUT\n"
     ]
    }
   ],
   "source": [
    "from time import sleep\n",
    "\n",
    "\n",
    "PATH = \"/sys/bus/gpio/devices/gpiochip0/gpio/\"\n",
    "\n",
    "# GPIO 10 for INDEX\n",
    "# GPIO 9 for MIDDLE\n",
    "# GPIO 8 for RING + LITTLE\n",
    "\n",
    "# Set GPIO pins as output pins\n",
    "try:\n",
    "    f1 = open(PATH + \"gpio10/direction\", \"w\")\n",
    "    f1.write(\"out\") \n",
    "    f1.close()\n",
    "    \n",
    "    f1 = open(PATH + \"gpio10/value\", \"w\")\n",
    "    f1.write(\"0\") \n",
    "    f1.close()\n",
    "    print(\"P8_31 set as OUTPUT\")\n",
    "    \n",
    "    f2 = open(PATH + \"gpio9/direction\", \"w\")\n",
    "    f2.write(\"out\") \n",
    "    f2.close()\n",
    "    print(\"P8_33 set as OUTPUT\")\n",
    "    \n",
    "    f3 = open(PATH + \"gpio8/direction\", \"w\")\n",
    "    f3.write(\"out\") \n",
    "    f3.close()\n",
    "    \n",
    "    f1 = open(PATH + \"gpio10/value\", \"w\")\n",
    "    f1.write(\"0\") \n",
    "    f1.close()\n",
    "    print(\"P8_35 set as OUTPUT\")\n",
    "except:\n",
    "    print(\"ERROR setting GPIOs as out\")\n",
    "    pass\n",
    "\n",
    "\n"
   ]
  },
  {
   "cell_type": "code",
   "execution_count": 8,
   "id": "ad378de4-53b8-42e1-92b9-c1a87a940d62",
   "metadata": {
    "tags": []
   },
   "outputs": [],
   "source": [
    "def feature_windows(data):\n",
    "    window_size =250\n",
    "    overlap = 50\n",
    "    var    = lambda data : np.var(data,axis =1) \n",
    "    rms    = lambda data : np.sqrt(np.mean(data ** 2,axis =1))\n",
    "    mav    = lambda data : np.sum(np.absolute(data),axis =1) / len(data)\n",
    "    wl     = lambda data : np.sum(abs(np.diff(data)),axis =1)\n",
    "    mean   = lambda data : np.mean(data,axis =1 )\n",
    "    std    = lambda data : np.std(data,axis =1)\n",
    "    median = lambda data : np.median(data,axis =1)\n",
    "    peak   = lambda data : np.max(data,axis =1)\n",
    "    min    = lambda data : np.min(data,axis =1)\n",
    "    iemg   = lambda data : np.sum(abs(data),axis =1)\n",
    "    aac    = lambda data : np.sum(abs(np.diff(data)),axis =1) / len(data)\n",
    "    kur    = lambda data : kurtosis(data,axis =1)\n",
    "    skewe  = lambda data : skew(data,axis =1)\n",
    "    features = [var,rms,mav,wl,mean,std,median,peak,min,iemg,aac,kur,skewe]\n",
    "    \n",
    "    win_matrix = sliding_window(data, window_size, overlap)\n",
    "    feature_vector = []\n",
    "    for feature_func in features:\n",
    "        feature_vector.extend(feature_func(win_matrix))\n",
    "    return np.array(feature_vector)"
   ]
  },
  {
   "cell_type": "code",
   "execution_count": 9,
   "id": "6cb95c16-ef68-4960-b450-1bbf40e8a803",
   "metadata": {
    "tags": []
   },
   "outputs": [],
   "source": [
    "v = lambda x_t : x_t[1:] * x_t[1:] - x_t[0:-1] * x_t[1:]\n",
    "mx_t = lambda x_t : np.convolve(x_t,np.ones(50))/50"
   ]
  },
  {
   "cell_type": "code",
   "execution_count": 10,
   "id": "a3715f19-0680-4f40-9a0d-1e4b5a51dfaa",
   "metadata": {
    "tags": []
   },
   "outputs": [],
   "source": [
    "def sliding_window(data, window_size, overlap):\n",
    "    \"\"\"\n",
    "    Applies a sliding window with overlap to the input data.\n",
    "\n",
    "    Parameters:\n",
    "    data (ndarray): input data\n",
    "    window_size (int): size of sliding window\n",
    "    overlap (int): overlap between consecutive windows\n",
    "\n",
    "    Returns:\n",
    "    ndarray: 2D array with sliding windows of shape (n_windows, window_size)\n",
    "    \"\"\"\n",
    "    n_samples = data.shape[0]\n",
    "    overlap = int(np.floor((window_size*overlap)/100))\n",
    "    n_windows = int(np.floor((n_samples - window_size) / overlap) + 1)\n",
    "    windows = np.zeros((n_windows, window_size))\n",
    "\n",
    "    for i in range(n_windows):\n",
    "        start = i * overlap\n",
    "        end = start + window_size\n",
    "        windows[i] = data[start:end]\n",
    "\n",
    "    return windows"
   ]
  },
  {
   "cell_type": "markdown",
   "id": "9ce0ac79-d0ad-40c4-a197-b25c751286fa",
   "metadata": {},
   "source": [
    "# sampling "
   ]
  },
  {
   "cell_type": "code",
   "execution_count": 6,
   "id": "32defe65-342d-43af-8ffe-56237dbf6952",
   "metadata": {
    "tags": []
   },
   "outputs": [
    {
     "name": "stdout",
     "output_type": "stream",
     "text": [
      "\n",
      "Sampled 1000 samples in 0.9972214698791504 s\n",
      "Sample rate: 998\n"
     ]
    },
    {
     "data": {
      "image/png": "[encoded data removed]",
      "text/plain": [
       "<Figure size 640x480 with 1 Axes>"
      ]
     },
     "metadata": {},
     "output_type": "display_data"
    }
   ],
   "source": [
    "np.set_printoptions(suppress=True) # No scientific notation\n",
    "\n",
    "# Raw analog input pin to read from file\n",
    "pin = 1\n",
    "file = \"/sys/bus/iio/devices/iio:device0/in_voltage{}_raw\".format(pin)\n",
    "fd = open(file, \"r\")\n",
    "\n",
    "########## CHANGE DEPENDING ON: FINGER, MOVEMENT, AMOUNT, SAMPLE NO ########## \n",
    "label = \"Thumb\" # \"Thumb\" or \"Index\" or \"Middle\" or \"Ring\" or \"Pinky\"\n",
    "movement = \"Flexion\" # \"Extension\" or \"Flexion\"\n",
    "sampleCount = 1000 # Amount of samples needed\n",
    "sample = 2 # Increment manually, i.e., set to 1 first, then 2, 3 ...\n",
    "############################################################################# \n",
    "\n",
    "sampleStart = sampleCount # For printouts\n",
    "period = 0.001 # Sample period\n",
    "data = [] # List of samples\n",
    "t = time.time() # For controlling sample rate\n",
    "startLoopTime = time.time() # For verification of sample rate accuracy\n",
    "\n",
    "while True:\n",
    "    t += period\n",
    "    fd.seek(0) # Reset file pinter to begining of file\n",
    "    value = float(fd.read().strip()) - 3412.0 # Read sensor value as float, CAN test with offset * 1.8/4096.0\n",
    "    data.append(value) # Append sensor value to list\n",
    "    time.sleep(max(0,t-time.time())) # Adjust sleep to get better time precision\n",
    "    sampleCount -= 1\n",
    "    if (sampleCount == 0): break # Change value to sample more\n",
    "fd.close()\n",
    "\n",
    "#Some information how it went\n",
    "print(\"\\nSampled \" + str(sampleStart) + \" samples in \" + str(time.time() - startLoopTime) + \" s\")\n",
    "print(\"Sample rate: \" + str(1000 / (time.time() - startLoopTime) ).split('.')[0])\n",
    "\n",
    "#Saving the data as a JSON file\n",
    "jsonFileName = str(sample) + label + movement\n",
    "jsonStructure = {'label': label, 'data': data}\n",
    "with open(\"samples/\" + jsonFileName + \".json\", 'w') as f:\n",
    "    json.dump(jsonStructure, f, indent = 4)\n",
    "\n",
    "#Plotting the data\n",
    "\n",
    "plt.plot(data)\n",
    "plt.plot(100*(20 < v(mx_t(data))))\n",
    "plt.xlabel('Sample')\n",
    "plt.ylabel('ADC Value')\n",
    "plt.title(label + movement)\n",
    "plt.xlim(0, 1000)\n",
    "plt.ylim(-250, 150) #SHOULD be enough to contain min/max ADC values from our experiments, COULD be adjusted. Can test with (-2, 2) if using *1.8/4096.0 offset\n",
    "plt.grid(True)"
   ]
  },
  {
   "cell_type": "markdown",
   "id": "d763be6c-f94f-4109-a642-b6f2d27be5d6",
   "metadata": {
    "tags": []
   },
   "source": [
    "# Loading the model and making predictions\n"
   ]
  },
  {
   "cell_type": "code",
   "execution_count": 11,
   "id": "1df539bb-7f6a-4008-b3be-369ba3e4a64f",
   "metadata": {
    "tags": []
   },
   "outputs": [],
   "source": [
    "import pickle"
   ]
  },
  {
   "cell_type": "code",
   "execution_count": 12,
   "id": "81e5723a-d297-474c-b232-b13661372798",
   "metadata": {},
   "outputs": [],
   "source": [
    "with open(r\"rf_3_pipe.sav\", \"rb\") as input_file:\n",
    "    trainedModel = pickle.load(input_file)"
   ]
  },
  {
   "cell_type": "code",
   "execution_count": 34,
   "id": "dc43fc5c-13aa-4b3e-9996-fc19f374c7f3",
   "metadata": {
    "tags": []
   },
   "outputs": [
    {
     "name": "stdout",
     "output_type": "stream",
     "text": [
      "\n",
      "Sampled 1000 samples in 1.0006415843963623 s\n",
      "Sample rate: 999\n",
      "MiddleFlexion\n",
      "P8_33 sent 1\n",
      "P8_33 sent 0\n"
     ]
    },
    {
     "data": {
      "image/png": "[encoded data removed]",
      "text/plain": [
       "<Figure size 640x480 with 1 Axes>"
      ]
     },
     "metadata": {},
     "output_type": "display_data"
    }
   ],
   "source": [
    "# Raw analogRF_pipeLine.savnput pin to read from file\n",
    "pin = 1\n",
    "file = \"/sys/bus/iio/devices/iio:device0/in_voltage{}_raw\".format(pin)\n",
    "sampleCount = 1000 \n",
    "sampleStart = sampleCount # For printouts\n",
    "period = 0.001 # Sample period\n",
    "data = [] # List of samples\n",
    "t = time.time() # For controlling sample rate\n",
    "startLoopTime = time.time() # For verification of sample rate accuracy\n",
    "fd = open(file, \"r\")\n",
    "sampleCount = 1000 \n",
    "while True:\n",
    "    t += period\n",
    "    fd.seek(0) # Reset file pinter to begining of file\n",
    "    value = float(fd.read().strip()) - 3412.0 # Read sensor value as float, CAN test with offset * 1.8/4096.0\n",
    "    data.append(value) # Append sensor value to list\n",
    "    time.sleep(max(0,t-time.time())) # Adjust sleep to get better time precision\n",
    "    sampleCount -= 1\n",
    "    if (sampleCount == 0): break # Change value to sample more\n",
    "timeEnd = time.time()\n",
    "fd.close()\n",
    "data = np.array(data)\n",
    "#Some information how it went\n",
    "print(\"\\nSampled \" + str(sampleStart) + \" samples in \" + str(timeEnd - startLoopTime) + \" s\")\n",
    "print(\"Sample rate: \" + str(1000 / (timeEnd - startLoopTime) ).split('.')[0])\n",
    "\n",
    "features =feature_windows(data)\n",
    "preds= trainedModel.predict(features.reshape((1,-1)))[0]\n",
    "plt.plot(data)\n",
    "print(preds)\n",
    "if preds == \"IndexFlexion\":\n",
    "    try:\n",
    "        f1 = open(PATH + \"gpio10/value\", \"w\")\n",
    "        f1.write(\"1\") \n",
    "        print(\"P8_31 sent 1\")\n",
    "        f1.close()\n",
    "        sleep(1)\n",
    "        f1 = open(PATH + \"gpio10/value\", \"w\")\n",
    "        f1.write(\"0\")\n",
    "        print(\"P8_31 sent 0\")\n",
    "        f1.close()\n",
    "    except:\n",
    "        print(\"ERROR: P8_31 could not send value\")\n",
    "        pass\n",
    "elif preds == 'MiddleFlexion':\n",
    "    try:\n",
    "        f2 = open(PATH + \"gpio9/value\", \"w\")\n",
    "        f2.write(\"1\") \n",
    "        print(\"P8_33 sent 1\")\n",
    "        f2.close()\n",
    "        sleep(1)\n",
    "        f2 = open(PATH + \"gpio9/value\", \"w\")\n",
    "        f2.write(\"0\")\n",
    "        print(\"P8_33 sent 0\")\n",
    "        f2.close()\n",
    "    except:\n",
    "        print(\"ERROR: P8_33 could not send value\")\n",
    "        pass\n",
    "elif preds in ['RingFlexion','LittleFlexion']:\n",
    "    try:\n",
    "        f3 = open(PATH + \"gpio8/value\", \"w\")\n",
    "        f3.write(\"1\") \n",
    "        print(\"P8_35 sent 1\")\n",
    "        f3.close()\n",
    "        sleep(1)\n",
    "        f3 = open(PATH + \"gpio8/value\", \"w\")\n",
    "        f3.write(\"0\")\n",
    "        print(\"P8_35 sent 0\")\n",
    "        f3.close()\n",
    "    except:\n",
    "        print(\"ERROR: P8_35 could not send value\")\n",
    "        pass"
   ]
  },
  {
   "cell_type": "code",
   "execution_count": null,
   "id": "890bd9dd-f30e-4e97-a370-b23fe0dfcf22",
   "metadata": {},
   "outputs": [],
   "source": []
  },
  {
   "cell_type": "code",
   "execution_count": null,
   "id": "5ea38dab-e452-4940-b736-4670ecc51d61",
   "metadata": {},
   "outputs": [],
   "source": []
  }
 ],
 "metadata": {
  "kernelspec": {
   "display_name": "Python 3 (ipykernel)",
   "language": "python",
   "name": "python3"
  },
  "language_info": {
   "codemirror_mode": {
    "name": "ipython",
    "version": 3
   },
   "file_extension": ".py",
   "mimetype": "text/x-python",
   "name": "python",
   "nbconvert_exporter": "python",
   "pygments_lexer": "ipython3",
   "version": "3.7.3"
  }
 },
 "nbformat": 4,
 "nbformat_minor": 5
}
